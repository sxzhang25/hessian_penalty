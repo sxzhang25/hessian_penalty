{
 "cells": [
  {
   "cell_type": "code",
   "execution_count": 1,
   "metadata": {},
   "outputs": [
    {
     "name": "stdout",
     "output_type": "stream",
     "text": [
      "WARNING:tensorflow:From /Users/szhang25/College/Senior Thesis/models/PRO-GAN/dnnlib/tflib/tfutil.py:34: The name tf.Dimension is deprecated. Please use tf.compat.v1.Dimension instead.\n",
      "\n",
      "WARNING:tensorflow:From /Users/szhang25/College/Senior Thesis/models/PRO-GAN/dnnlib/tflib/tfutil.py:74: The name tf.variable_scope is deprecated. Please use tf.compat.v1.variable_scope instead.\n",
      "\n",
      "WARNING:tensorflow:From /Users/szhang25/College/Senior Thesis/models/PRO-GAN/dnnlib/tflib/tfutil.py:131: The name tf.Session is deprecated. Please use tf.compat.v1.Session instead.\n",
      "\n"
     ]
    }
   ],
   "source": [
    "import numpy as np\n",
    "import matplotlib.pyplot as plt\n",
    "import pickle\n",
    "import tensorflow as tf\n",
    "import time\n",
    "\n",
    "import dnnlib\n",
    "from dnnlib import EasyDict\n",
    "import dnnlib.tflib as tflib\n",
    "\n",
    "from networks_progan import *\n",
    "from progan_object_ious import *"
   ]
  },
  {
   "cell_type": "code",
   "execution_count": 2,
   "metadata": {},
   "outputs": [],
   "source": [
    "tf.enable_eager_execution()"
   ]
  },
  {
   "cell_type": "markdown",
   "metadata": {},
   "source": [
    "## Load model"
   ]
  },
  {
   "cell_type": "code",
   "execution_count": 625,
   "metadata": {},
   "outputs": [],
   "source": [
    "model_dir = './pretrained_models/'\n",
    "model_name = 'clevr_complex_bl'\n",
    "model_path = model_dir + model_name + '.pkl'"
   ]
  },
  {
   "cell_type": "code",
   "execution_count": 606,
   "metadata": {},
   "outputs": [],
   "source": [
    "# weights = {}\n",
    "# for key in Gs.vars.keys():\n",
    "#     weights[key] = Gs.get_var(key)\n",
    "# with open(model_name + '_weights.pickle', 'wb') as handle:\n",
    "#     pickle.dump(weights, handle)\n",
    "with open(model_name + '_weights.pickle', 'rb') as handle:\n",
    "    weights = pickle.load(handle)"
   ]
  },
  {
   "cell_type": "markdown",
   "metadata": {},
   "source": [
    "## Minimize over a path in a feature space"
   ]
  },
  {
   "cell_type": "markdown",
   "metadata": {},
   "source": [
    "The general idea:\n",
    "1. Choose a particular neuron\n",
    "2. Compute the energy m(x1, x2) = ||V(x1) - V(x2)||_2\n",
    "3. Minimize \\sum_{i=0}^n {m(x_i, x_{i+1})^2}"
   ]
  },
  {
   "cell_type": "code",
   "execution_count": 698,
   "metadata": {},
   "outputs": [],
   "source": [
    "class PathFinder:\n",
    "    def __init__(\n",
    "        self, \n",
    "        z1, \n",
    "        z2, \n",
    "        weights, \n",
    "        layer_name, \n",
    "        neuron\n",
    "    ):\n",
    "        self.z1 = z1\n",
    "        self.z2 = z2\n",
    "        self.weights = weights\n",
    "        self.layer_name = layer_name\n",
    "        self.neuron = neuron\n",
    "        self.points = []\n",
    "               \n",
    "        self.layers = [\n",
    "            '4x4/Dense',\n",
    "            '4x4/Conv',\n",
    "            '8x8/Conv0_up',\n",
    "            '8x8/Conv1',\n",
    "            '16x16/Conv0_up',\n",
    "            '16x16/Conv1',\n",
    "            '32x32/Conv0_up',\n",
    "            '32x32/Conv1',\n",
    "            '64x64/Conv0_up',\n",
    "            '64x64/Conv1',\n",
    "            '128x128/Conv0_up',\n",
    "            '128x128/Conv1',\n",
    "        ]\n",
    "        self.output_shape = {\n",
    "            '4x4':     [512, 4, 4],\n",
    "            '8x8':     [8, 8, 512],\n",
    "            '16x16':   [16, 16, 512],\n",
    "            '32x32':   [32, 32, 512],\n",
    "            '64x64':   [64, 64, 256],\n",
    "            '128x128': [128, 128, 128]\n",
    "        }\n",
    "    \n",
    "    def compute_x(self, z, layer_name, neuron):\n",
    "        # evaluate the activation for z at this layer\n",
    "        n = z.shape[0]\n",
    "        for layer in self.layers:\n",
    "            layer_dims, layer_type = layer.split('/')\n",
    "            if layer_type == 'Conv1' or layer_type == 'Conv':\n",
    "                z = tf.transpose(z, [0, 2, 3, 1])\n",
    "                w = self.weights[layer + '/weight']\n",
    "                b = self.weights[layer + '/bias'][0]\n",
    "                z = tf.nn.conv2d(\n",
    "                    z, \n",
    "                    w, \n",
    "                    strides=[1,1,1,1], \n",
    "                    padding='SAME', \n",
    "                    data_format='NHWC'\n",
    "                )\n",
    "                z = tf.transpose(z, [0, 3, 1, 2])\n",
    "                z = pixel_norm(leaky_relu(z + b))\n",
    "                \n",
    "            elif layer_type == 'Conv0_up':\n",
    "                z = tf.transpose(z, [0, 2, 3, 1])\n",
    "                w = self.weights[layer + '/weight']\n",
    "                w = tf.transpose(w, [0, 1, 3, 2]) # [kernel, kernel, fmaps_out, fmaps_in]\n",
    "                w = tf.pad(w, [[1,1], [1,1], [0,0], [0,0]], mode='CONSTANT')\n",
    "                w = tf.add_n([w[1:, 1:], w[:-1, 1:], w[1:, :-1], w[:-1, :-1]])\n",
    "                os = [n] + self.output_shape[layer_dims]\n",
    "                b = self.weights[layer + '/bias'][0]\n",
    "                z = tf.nn.conv2d_transpose(\n",
    "                    z, \n",
    "                    w, \n",
    "                    os, \n",
    "                    strides=[1,2,2,1], \n",
    "                    padding='SAME', \n",
    "                    data_format='NHWC'\n",
    "                )\n",
    "                z = tf.transpose(z, [0, 3, 1, 2])\n",
    "                z = pixel_norm(leaky_relu(z + b))\n",
    "            elif layer_type == 'Dense':\n",
    "                w = self.weights['4x4/Dense/weight']\n",
    "                b = self.weights['4x4/Dense/bias'][0]\n",
    "                z = tf.matmul(pixel_norm(z), w) + b\n",
    "                z = tf.reshape(z, [n] + self.output_shape[layer_dims])\n",
    "                z = leaky_relu(pixel_norm(z))\n",
    "            else:\n",
    "                print('Error: invalid layer {}'.format(layer_name))\n",
    "                return\n",
    "            \n",
    "            if layer == layer_name:\n",
    "                return z[:,neuron,:,:]\n",
    "    \n",
    "    def m(self, z_i, z_j):\n",
    "        x_i = self.compute_x(z_i, self.layer_name, self.neuron)\n",
    "        x_j = self.compute_x(z_j, self.layer_name, self.neuron)\n",
    "        return tf.norm(x_i - x_j)\n",
    "    \n",
    "    def compute_loss(self):\n",
    "        loss_comps = []\n",
    "        for i in range(len(self.points)):\n",
    "            if i == 0:\n",
    "                loss_comps.append(self.m(self.points[i], self.z1)**2)\n",
    "            else:\n",
    "                loss_comps.append(self.m(self.points[i], self.points[i - 1])**2)\n",
    "            loss_comps.append(self.m(self.points[-1], self.z2)**2)\n",
    "        return tf.add_n(loss_comps)\n",
    "    \n",
    "    def run(self, session, n_epochs, lr=0.01):\n",
    "        opt = tf.train.AdamOptimizer(learning_rate=lr)\n",
    "        z = tf.Variable(\n",
    "            initial_value=tf.math.scalar_mul(0.5, tf.math.add(self.z1, self.z2)),\n",
    "            trainable=True\n",
    "        )\n",
    "        self.points.append(z)\n",
    "        for i in range(1, n_epochs+1):\n",
    "            print(i, end= ' ')\n",
    "            if (i % 25 == 0):\n",
    "                # subdivide the path\n",
    "                for j in range(len(self.points) + 1):\n",
    "                    if j == 0:\n",
    "                        z1 = self.z1\n",
    "                        z2 = self.points[0]\n",
    "                    elif j == len(self.points):\n",
    "                        z1 = self.points[-1]\n",
    "                        z2 = self.z2\n",
    "                    else:\n",
    "                        z1 = self.points[j]\n",
    "                        z2 = self.points[j - 1] \n",
    "                    z = tf.Variable(\n",
    "                        initial_value=tf.math.scalar_mul(0.5, tf.math.add(z1, z2)),\n",
    "                        trainable=True\n",
    "                    )\n",
    "                    self.points.insert(2 * j, z)\n",
    "                \n",
    "            # compute loss and update path points            \n",
    "            with tf.GradientTape() as tape:\n",
    "                loss = self.compute_loss()\n",
    "            var_list = self.points\n",
    "            grads = tape.gradient(loss, var_list)\n",
    "            processed_grads = [tf.clip_by_norm(g, 2.0) for g in grads]\n",
    "            opt.apply_gradients(zip(processed_grads, var_list))\n",
    "                    \n",
    "                    "
   ]
  },
  {
   "cell_type": "code",
   "execution_count": null,
   "metadata": {},
   "outputs": [
    {
     "name": "stdout",
     "output_type": "stream",
     "text": [
      "1 2 3 4 5 6 7 8 9 10 11 12 13 14 15 16 17 18 19 20 21 22 23 24 25 26 27 28 29 30 31 32 33 34 35 36 37 38 39 40 41 42 43 44 45 46 47 48 49 50 51 52 53 54 55 56 57 58 59 60 61 62 63 64 65 66 67 68 69 70 71 72 73 74 75 76 77 78 79 80 81 82 83 84 85 86 87 88 89 90 91 92 93 94 95 96 97 98 99 100 101 102 103 104 105 106 107 108 109 110 111 112 113 114 115 116 117 118 "
     ]
    }
   ],
   "source": [
    "rnd = np.random.RandomState(1)\n",
    "latents = rnd.randn(2, 12).astype('float32')\n",
    "layer = '8x8/Conv1'\n",
    "neuron = 169\n",
    "pf = PathFinder(\n",
    "    np.expand_dims(latents[0], 0), \n",
    "    np.expand_dims(latents[1], 0), \n",
    "    weights, \n",
    "    layer, \n",
    "    neuron\n",
    ")\n",
    "pf.run(tf.get_default_session(), 124)"
   ]
  },
  {
   "cell_type": "code",
   "execution_count": null,
   "metadata": {},
   "outputs": [],
   "source": [
    "print(len(pf.points))"
   ]
  },
  {
   "cell_type": "markdown",
   "metadata": {},
   "source": [
    "#### Feature path"
   ]
  },
  {
   "cell_type": "code",
   "execution_count": 693,
   "metadata": {},
   "outputs": [
    {
     "name": "stdout",
     "output_type": "stream",
     "text": [
      "[[ 1.6243454  -0.6117564  -0.5281718  -1.0729686   0.86540765 -2.3015387\n",
      "   1.7448118  -0.7612069   0.3190391  -0.24937038  1.4621079  -2.0601406 ]\n",
      " [ 1.3145151  -0.83133996 -0.3138924  -1.3422426   0.7054708  -1.9390701\n",
      "   1.4502432  -0.49218705 -0.15658623 -0.29772344  1.4316835  -1.5783201 ]\n",
      " [ 0.98454833 -0.85480994 -0.22084741 -1.3859004   0.62296087 -1.7977765\n",
      "   1.237989   -0.3388674  -0.5159404  -0.2112637   1.3652909  -1.2676233 ]\n",
      " [ 1.0093501  -0.9049553  -0.16558893 -1.4899324   0.59116095 -1.7808586\n",
      "   1.2934923  -0.2613146  -0.51675886 -0.15121791  1.5775434  -1.2053269 ]\n",
      " [ 0.43747467 -0.6356147  -0.30246812 -1.191468    0.531168   -1.6049669\n",
      "   0.7827863  -0.45974678 -0.7311746   0.21786869  1.4144942  -0.7033163 ]\n",
      " [ 0.7706291  -0.9942121  -0.00351633 -1.6831822   0.38154626 -1.8821603\n",
      "   1.1180334  -0.11124645 -0.7807566   0.1344331   1.7940764  -0.83987993]\n",
      " [ 0.4479049  -0.48664713  0.08468762 -1.5467287   0.4278589  -1.8217977\n",
      "   0.8259992  -0.00549807 -1.0955166   0.7319125   1.9001212  -0.27446064]\n",
      " [ 0.25210106 -0.95532626  0.20007277 -1.797365    0.20643945 -1.3669034\n",
      "   0.4980477   0.08237953 -1.0691042   0.57299876  1.634513   -0.5017041 ]\n",
      " [-0.3224172  -0.38405436  1.1337694  -1.0998913  -0.1724282  -0.8778584\n",
      "   0.04221375  0.58281523 -1.1006192   1.1447237   0.9015907   0.50249434]]\n"
     ]
    }
   ],
   "source": [
    "feature_path = np.zeros((len(pf.points) + 2, 12)).astype('float32')\n",
    "feature_path[0] = pf.z1\n",
    "feature_path[-1] = pf.z2\n",
    "for i,point in enumerate(pf.points):\n",
    "    feature_path[i+1] = point.numpy()\n",
    "print(feature_path)"
   ]
  },
  {
   "cell_type": "code",
   "execution_count": 694,
   "metadata": {},
   "outputs": [
    {
     "data": {
      "text/plain": [
       "[<matplotlib.lines.Line2D at 0x7fce69976390>]"
      ]
     },
     "execution_count": 694,
     "metadata": {},
     "output_type": "execute_result"
    },
    {
     "data": {
      "image/png": "[encoded data removed]",
      "text/plain": [
       "<Figure size 432x288 with 1 Axes>"
      ]
     },
     "metadata": {
      "needs_background": "light"
     },
     "output_type": "display_data"
    }
   ],
   "source": [
    "plt.plot(feature_path[:,1], feature_path[:,2])"
   ]
  },
  {
   "cell_type": "markdown",
   "metadata": {},
   "source": [
    "#### Linear interpolation"
   ]
  },
  {
   "cell_type": "code",
   "execution_count": 695,
   "metadata": {},
   "outputs": [
    {
     "name": "stdout",
     "output_type": "stream",
     "text": [
      "[[ 1.6243454  -0.6117564  -0.5281718  -1.0729686   0.86540765 -2.3015387\n",
      "   1.7448118  -0.7612069   0.3190391  -0.24937038  1.4621079  -2.0601406 ]\n",
      " [ 1.381      -0.5832936  -0.32042915 -1.076334    0.7356782  -2.1235788\n",
      "   1.531987   -0.59320414  0.14158182 -0.07510863  1.3920432  -1.7398112 ]\n",
      " [ 1.1376548  -0.5548309  -0.11268649 -1.0796993   0.6059487  -1.9456186\n",
      "   1.3191622  -0.42520142 -0.03587547  0.09915313  1.3219787  -1.4194819 ]\n",
      " [ 0.8943094  -0.52636814  0.09505615 -1.0830646   0.4762192  -1.7676586\n",
      "   1.1063375  -0.2571986  -0.21333274  0.27341488  1.2519139  -1.0991526 ]\n",
      " [ 0.65096414 -0.49790537  0.3027988  -1.08643     0.34648973 -1.5896986\n",
      "   0.8935128  -0.08919585 -0.39079005  0.44767663  1.1818492  -0.77882314]\n",
      " [ 0.4076188  -0.46944264  0.51054144 -1.0897954   0.21676023 -1.4117385\n",
      "   0.68068796  0.07880691 -0.5682473   0.6219384   1.1117847  -0.45849377]\n",
      " [ 0.16427346 -0.44097984  0.7182841  -1.0931606   0.08703075 -1.2337785\n",
      "   0.46786326  0.2468097  -0.7457046   0.79620016  1.0417199  -0.1381644 ]\n",
      " [-0.07907186 -0.4125171   0.9260267  -1.096526   -0.04269872 -1.0558184\n",
      "   0.2550385   0.41481248 -0.92316186  0.97046185  0.97165537  0.18216497]\n",
      " [-0.3224172  -0.38405436  1.1337694  -1.0998913  -0.1724282  -0.8778584\n",
      "   0.04221375  0.58281523 -1.1006192   1.1447237   0.9015907   0.50249434]]\n"
     ]
    }
   ],
   "source": [
    "linear_path = np.zeros((len(pf.points) + 2, 12)).astype('float32')\n",
    "linear_path[0] = pf.z1\n",
    "linear_path[-1] = pf.z2\n",
    "for i in range(len(pf.points)):\n",
    "    alpha = (i+1) / (len(pf.points) + 1)\n",
    "    linear_path[i+1] = (1 - alpha) * pf.z1 + alpha * pf.z2\n",
    "print(linear_path)"
   ]
  },
  {
   "cell_type": "code",
   "execution_count": 696,
   "metadata": {},
   "outputs": [
    {
     "data": {
      "text/plain": [
       "[<matplotlib.lines.Line2D at 0x7fce2d8eba58>]"
      ]
     },
     "execution_count": 696,
     "metadata": {},
     "output_type": "execute_result"
    },
    {
     "data": {
      "image/png": "[encoded data removed]",
      "text/plain": [
       "<Figure size 432x288 with 1 Axes>"
      ]
     },
     "metadata": {
      "needs_background": "light"
     },
     "output_type": "display_data"
    }
   ],
   "source": [
    "plt.plot(linear_path[:,0], linear_path[:,1])"
   ]
  },
  {
   "cell_type": "markdown",
   "metadata": {},
   "source": [
    "#### Save interpolations"
   ]
  },
  {
   "cell_type": "code",
   "execution_count": 697,
   "metadata": {},
   "outputs": [],
   "source": [
    "interps = {}\n",
    "interps['feature'] = feature_path\n",
    "interps['linear'] = linear_path\n",
    "\n",
    "layer_name = '-'.join(layer.split('/'))\n",
    "with open('interps_{}_{}.pickle'.format(layer_name, neuron), 'wb') as handle:\n",
    "    pickle.dump(interps, handle)"
   ]
  },
  {
   "cell_type": "code",
   "execution_count": null,
   "metadata": {},
   "outputs": [],
   "source": []
  }
 ],
 "metadata": {
  "kernelspec": {
   "display_name": "Python 3",
   "language": "python",
   "name": "python3"
  },
  "language_info": {
   "codemirror_mode": {
    "name": "ipython",
    "version": 3
   },
   "file_extension": ".py",
   "mimetype": "text/x-python",
   "name": "python",
   "nbconvert_exporter": "python",
   "pygments_lexer": "ipython3",
   "version": "3.6.10"
  }
 },
 "nbformat": 4,
 "nbformat_minor": 4
}
